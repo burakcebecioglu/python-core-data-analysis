{
 "cells": [
  {
   "cell_type": "code",
   "execution_count": 1,
   "source": [
    "import pandas as pd\r\n",
    "import openpyxl"
   ],
   "outputs": [],
   "metadata": {}
  },
  {
   "cell_type": "code",
   "execution_count": 26,
   "source": [
    "td = {\r\n",
    "    \"e\":[47,48,49],\r\n",
    "    \"f\":[50,51,52],\r\n",
    "    \"g\":[53,54,55]\r\n",
    "}"
   ],
   "outputs": [],
   "metadata": {}
  },
  {
   "cell_type": "code",
   "execution_count": 27,
   "source": [
    "df = pd.DataFrame.from_dict(td)"
   ],
   "outputs": [],
   "metadata": {}
  },
  {
   "cell_type": "code",
   "execution_count": 28,
   "source": [
    "excel_df = pd.read_excel(\"C:/Users/Admin/Downloads/datasheet.xlsx\",sheet_name=\"Sheet2\")"
   ],
   "outputs": [],
   "metadata": {}
  },
  {
   "cell_type": "code",
   "execution_count": 29,
   "source": [
    "df = excel_df.append(df)"
   ],
   "outputs": [],
   "metadata": {}
  },
  {
   "cell_type": "code",
   "execution_count": 30,
   "source": [
    "workbook = openpyxl.load_workbook(\"C:/Users/Admin/Downloads/datasheet.xlsx\")\r\n",
    "writer = pd.ExcelWriter(\"C:/Users/Admin/Downloads/datasheet2.xlsx\", engine='openpyxl')\r\n",
    "writer.book = workbook\r\n",
    "writer.sheets = dict((ws.title, ws) for ws in workbook.worksheets)\r\n",
    "df.to_excel(writer, 'Sheet2',index=False)\r\n",
    "writer.save()\r\n",
    "writer.close()"
   ],
   "outputs": [],
   "metadata": {}
  },
  {
   "cell_type": "code",
   "execution_count": null,
   "source": [],
   "outputs": [],
   "metadata": {}
  }
 ],
 "metadata": {
  "orig_nbformat": 4,
  "language_info": {
   "name": "python",
   "version": "3.8.10",
   "mimetype": "text/x-python",
   "codemirror_mode": {
    "name": "ipython",
    "version": 3
   },
   "pygments_lexer": "ipython3",
   "nbconvert_exporter": "python",
   "file_extension": ".py"
  },
  "kernelspec": {
   "name": "python3",
   "display_name": "Python 3.8.10 64-bit ('python-core-data-analysis-cKcRc1CI': pipenv)"
  },
  "interpreter": {
   "hash": "bbf4ddd6c941997b72a7818917daee7763d59f330f7c371429919b53b6ba64b8"
  }
 },
 "nbformat": 4,
 "nbformat_minor": 2
}