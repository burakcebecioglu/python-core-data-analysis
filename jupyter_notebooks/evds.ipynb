{
 "cells": [
  {
   "cell_type": "code",
   "execution_count": null,
   "source": [
    "import cx_Oracle\r\n",
    "import requests\r\n",
    "import datetime\r\n",
    "import pandas as pd\r\n",
    "from decimal import Decimal"
   ],
   "outputs": [],
   "metadata": {}
  },
  {
   "cell_type": "code",
   "execution_count": null,
   "source": [
    "CONNECTION_STRING = \"\"\r\n",
    "orcl = cx_Oracle.connect(CONNECTION_STRING)\r\n",
    "orcl.autocommit = True\r\n",
    "cursor = orcl.cursor()"
   ],
   "outputs": [],
   "metadata": {}
  },
  {
   "cell_type": "code",
   "execution_count": null,
   "source": [
    "evds_key = \"\" # This must be populated before run the notebook\r\n",
    "\r\n",
    "# Following two entries must be unchanged!\r\n",
    "EVDS_TIME_FORMAT_STRING = \"%d-%m-%Y\"\r\n",
    "\r\n",
    "EVDS_DATE_NAME = \"Tarih\"\r\n",
    "\r\n",
    "# DataFrame to collect the data\r\n",
    "evds_data = pd.DataFrame()"
   ],
   "outputs": [],
   "metadata": {}
  },
  {
   "cell_type": "code",
   "execution_count": null,
   "source": [
    "today = datetime.datetime.now()\r\n",
    "last_data_date = datetime.datetime(2021,8,3) ## Supposed to be get from database\r\n",
    "start_date = last_data_date + datetime.timedelta(days=1)\r\n"
   ],
   "outputs": [],
   "metadata": {}
  },
  {
   "cell_type": "code",
   "execution_count": null,
   "source": [
    "series_dict = {\r\n",
    "    \"PERSONAL\":\"TP.KTF10\",\r\n",
    "    \"VEHICLE\":\"TP.KTF11\",\r\n",
    "    \"HOUSING\":\"TP.KTF12\"\r\n",
    "}"
   ],
   "outputs": [],
   "metadata": {}
  },
  {
   "cell_type": "code",
   "execution_count": null,
   "source": [
    "url_base = \"https://evds2.tcmb.gov.tr/service/evds/series=\"\r\n",
    "url_series_list = \"-\".join(list(series_dict.values()))\r\n",
    "url_start_date = start_date.strftime(EVDS_TIME_FORMAT_STRING)\r\n",
    "url_end_date = today.strftime(EVDS_TIME_FORMAT_STRING)\r\n",
    "url_type = \"json\"\r\n",
    "url_key = evds_key"
   ],
   "outputs": [],
   "metadata": {}
  },
  {
   "cell_type": "code",
   "execution_count": null,
   "source": [
    "def create_evds_url(series_list, start_date, end_date):\r\n",
    "    url = url_base + series_list + \"&startDate=\" + start_date + \\\r\n",
    "        \"&endDate=\" + end_date + \"&type=json\" + \"&key=\" + evds_key\r\n",
    "    return url\r\n"
   ],
   "outputs": [],
   "metadata": {}
  },
  {
   "cell_type": "code",
   "execution_count": null,
   "source": [
    "url = create_evds_url(\r\n",
    "    url_series_list,\r\n",
    "    url_start_date,\r\n",
    "    url_end_date)\r\n",
    "\r\n",
    "result = requests.get(url).json()[\"items\"]\r\n",
    "\r\n",
    "for x in result:\r\n",
    "    for j in series_dict:\r\n",
    "        key = series_dict[j].replace(\".\",\"_\")\r\n",
    "        row_dict = {\r\n",
    "            \"DATA_DATE\": datetime.datetime.strptime(x[evds_date_name], evds_time_format_string),\r\n",
    "            \"VALUE\": (Decimal(x[key]) / 100),\r\n",
    "            \"DATA_NAME\": \"MARKET_RATE_\" + j,\r\n",
    "            \"DATA_TYPE\": \"percentage\"\r\n",
    "        }\r\n",
    "        evds_data = evds_data.append(row_dict, ignore_index=True)"
   ],
   "outputs": [],
   "metadata": {}
  },
  {
   "cell_type": "code",
   "execution_count": null,
   "source": [
    "sql = \"insert into waited_average_interest_rate value (:1,:2,:3,:4)\"\r\n",
    "\r\n",
    "for x in evds_data.values.tolist():\r\n",
    "    cursor.execute(sql,x)\r\n",
    "    print(x)\r\n",
    "\r\n"
   ],
   "outputs": [],
   "metadata": {}
  }
 ],
 "metadata": {
  "orig_nbformat": 4,
  "language_info": {
   "name": "python",
   "version": "3.8.10",
   "mimetype": "text/x-python",
   "codemirror_mode": {
    "name": "ipython",
    "version": 3
   },
   "pygments_lexer": "ipython3",
   "nbconvert_exporter": "python",
   "file_extension": ".py"
  },
  "kernelspec": {
   "name": "python3",
   "display_name": "Python 3.8.10 64-bit ('python-core-data-analysis-cKcRc1CI': pipenv)"
  },
  "interpreter": {
   "hash": "bbf4ddd6c941997b72a7818917daee7763d59f330f7c371429919b53b6ba64b8"
  }
 },
 "nbformat": 4,
 "nbformat_minor": 2
}